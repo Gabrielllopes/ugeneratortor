{
 "cells": [
  {
   "cell_type": "code",
   "execution_count": 2,
   "id": "3aa8947c",
   "metadata": {},
   "outputs": [],
   "source": [
    "import requests\n",
    "from google.cloud import storage\n"
   ]
  },
  {
   "cell_type": "code",
   "execution_count": 3,
   "id": "9aef6d93",
   "metadata": {},
   "outputs": [],
   "source": [
    "client = storage.Client.from_service_account_json('/home/gabriel/ugeneretortor/.credentials/instagramgenerator-f4ddb52261b8.json')"
   ]
  },
  {
   "cell_type": "code",
   "execution_count": 4,
   "id": "bac21931",
   "metadata": {},
   "outputs": [],
   "source": [
    "bucket_name = 'the-great-bucket-that-saves-images-dev'\n",
    "source_file_name = '/home/gabriel/ugeneretortor/.tmp/example.png'\n",
    "destination_blob_name = 'test/example.png'"
   ]
  },
  {
   "cell_type": "code",
   "execution_count": 5,
   "id": "ed6dc41a",
   "metadata": {},
   "outputs": [],
   "source": [
    "bucket = client.bucket(bucket_name)\n",
    "blob = bucket.blob(destination_blob_name)\n",
    "\n",
    "blob.upload_from_filename(source_file_name)\n",
    "\n",
    "# MAKE IT PUBLIC\n",
    "blob.make_public()\n",
    "\n",
    "image_url = blob.public_url"
   ]
  },
  {
   "cell_type": "code",
   "execution_count": 9,
   "id": "59d517bc",
   "metadata": {},
   "outputs": [],
   "source": [
    "with open('/home/gabriel/ugeneretortor/.credentials/instagram_token', 'r', encoding='utf-8') as f:\n",
    "    access_token = f.read()"
   ]
  },
  {
   "cell_type": "code",
   "execution_count": 10,
   "id": "e8db124e",
   "metadata": {},
   "outputs": [],
   "source": [
    "\n",
    "instagram_account_id = 'idaresaywhat'\n",
    "caption = 'Sua legenda aqui'"
   ]
  },
  {
   "cell_type": "code",
   "execution_count": 18,
   "id": "65608346",
   "metadata": {},
   "outputs": [],
   "source": [
    "access_token = 'IGAALFVqV90wNBZAE9rbVBlVnRrVC1saUMyYUxfa2RaWHlYM1IzN1RQQ3ZA3X3RiWDQ3SmNfLVpUcFFfTUViazdKU3NJX2VVZAUhEX3JzUnRHNy1TaHBxZAXhFUDVFeW5HbGRWdldlZAHozbkozQ0ZAHMm5BTThYTWNYYnBwZADFFaHhMcwZDZD'"
   ]
  },
  {
   "cell_type": "code",
   "execution_count": 23,
   "id": "8513c02d",
   "metadata": {},
   "outputs": [],
   "source": [
    "headers = {\n",
    "    \"Authorization\": f\"Bearer {access_token}\"\n",
    "}"
   ]
  },
  {
   "cell_type": "code",
   "execution_count": 24,
   "id": "b2b10677",
   "metadata": {},
   "outputs": [
    {
     "name": "stdout",
     "output_type": "stream",
     "text": [
      "Erro ao criar o container de mídia: {'error': {'message': 'Invalid OAuth access token - Cannot parse access token', 'type': 'OAuthException', 'code': 190, 'fbtrace_id': 'AvK8v07y9BvBIhuJnGEs5Aw'}}\n"
     ]
    }
   ],
   "source": [
    "media_url = f'https://graph.facebook.com/v19.0/{instagram_account_id}/media'\n",
    "media_payload = {\n",
    "    'image_url': image_url,\n",
    "    'caption': caption,\n",
    "}\n",
    "media_resp = requests.post(media_url, data=media_payload, headers=headers)\n",
    "media_id = media_resp.json().get('id')\n",
    "\n",
    "# 2. Publique o post\n",
    "if media_id:\n",
    "    publish_url = f'https://graph.facebook.com/v19.0/{instagram_account_id}/media_publish'\n",
    "    publish_payload = {\n",
    "        'creation_id': media_id\n",
    "    }\n",
    "\n",
    "    publish_resp = requests.post(publish_url, data=publish_payload, headers=headers)\n",
    "    print(publish_resp.json())\n",
    "else:\n",
    "    print('Erro ao criar o container de mídia:', media_resp.json())"
   ]
  },
  {
   "cell_type": "code",
   "execution_count": 26,
   "id": "2c891ec9",
   "metadata": {},
   "outputs": [
    {
     "data": {
      "text/plain": [
       "{'error': {'message': 'Invalid OAuth access token - Cannot parse access token',\n",
       "  'type': 'OAuthException',\n",
       "  'code': 190,\n",
       "  'fbtrace_id': 'AvK8v07y9BvBIhuJnGEs5Aw'}}"
      ]
     },
     "execution_count": 26,
     "metadata": {},
     "output_type": "execute_result"
    }
   ],
   "source": [
    "media_resp.json()"
   ]
  },
  {
   "cell_type": "code",
   "execution_count": null,
   "id": "a336357a",
   "metadata": {
    "vscode": {
     "languageId": "yaml"
    }
   },
   "outputs": [],
   "source": [
    "# O erro indica que o access_token fornecido não é válido para a API do Instagram/Facebook.\n",
    "# Possíveis causas:\n",
    "# - O token expirou ou foi revogado.\n",
    "# - O token não corresponde ao app ou conta correta.\n",
    "# - O formato do token está incorreto.\n",
    "\n",
    "# Recomendações:\n",
    "# 1. Gere um novo access_token válido para a conta e app corretos.\n",
    "# 2. Verifique se o token tem as permissões necessárias (instagram_basic, pages_show_list, etc).\n",
    "# 3. Teste o token usando o Graph API Explorer: https://developers.facebook.com/tools/explorer/\n",
    "\n",
    "print(\"Erro: access_token inválido. Gere um novo token e tente novamente.\")"
   ]
  },
  {
   "cell_type": "code",
   "execution_count": null,
   "id": "fb4da79f",
   "metadata": {
    "vscode": {
     "languageId": "ruby"
    }
   },
   "outputs": [],
   "source": [
    "Erro ao criar o container de mídia: {'error': {'message': 'Invalid OAuth access token - Cannot parse access token', 'type': 'OAuthException', 'code': 190, 'fbtrace_id': 'AZLQ7yUQA0NKQ_N1j-tG1WC'}}"
   ]
  }
 ],
 "metadata": {
  "kernelspec": {
   "display_name": ".venv",
   "language": "python",
   "name": "python3"
  },
  "language_info": {
   "codemirror_mode": {
    "name": "ipython",
    "version": 3
   },
   "file_extension": ".py",
   "mimetype": "text/x-python",
   "name": "python",
   "nbconvert_exporter": "python",
   "pygments_lexer": "ipython3",
   "version": "3.12.3"
  }
 },
 "nbformat": 4,
 "nbformat_minor": 5
}
