{
 "cells": [
  {
   "cell_type": "code",
   "execution_count": null,
   "id": "b58edfa9",
   "metadata": {},
   "outputs": [],
   "source": [
    "from utils.uselib import append_parent_dir_to_sys_path\n",
    "\n",
    "append_parent_dir_to_sys_path()"
   ]
  },
  {
   "cell_type": "code",
   "execution_count": null,
   "id": "7ec5c8f2",
   "metadata": {},
   "outputs": [],
   "source": [
    "from src.utils.utils import get_ilustration_styles\n",
    "from src.models.base import ILUSTRATIONS_STYLE, Language\n",
    "\n",
    "from src.prompts.text import system_isntruction\n",
    "from src.prompts.image import generate_ilustration\n",
    "\n",
    "from src.gemini.text import get_from_gemini_text\n",
    "from src.gemini.image import generate_images_from_list"
   ]
  },
  {
   "cell_type": "code",
   "execution_count": null,
   "id": "6f4900f2",
   "metadata": {},
   "outputs": [],
   "source": [
    "generate_message = \"Curiosidades e easter eggs dos filmes da xuxa\""
   ]
  },
  {
   "cell_type": "code",
   "execution_count": null,
   "id": "72458894",
   "metadata": {},
   "outputs": [],
   "source": [
    "# show all illustration styles\n",
    "get_ilustration_styles()"
   ]
  },
  {
   "cell_type": "code",
   "execution_count": null,
   "id": "c68a2e3c",
   "metadata": {},
   "outputs": [],
   "source": [
    "ilustration_style = ILUSTRATIONS_STYLE[5]"
   ]
  },
  {
   "cell_type": "code",
   "execution_count": null,
   "id": "d17eb81f",
   "metadata": {},
   "outputs": [],
   "source": [
    "language = Language.PORTUGUESE"
   ]
  },
  {
   "cell_type": "code",
   "execution_count": null,
   "id": "ec498363",
   "metadata": {},
   "outputs": [],
   "source": [
    "si = system_isntruction(language)\n",
    "text_gen = get_from_gemini_text(input_message=generate_message, sys_instructs=si)\n",
    "\n",
    "for i, j in enumerate(text_gen.slide):\n",
    "    print(f\"Slide {i}: {j}\")\n",
    "\n",
    "print(f\"\"\"\n",
    "    Title: {text_gen.title}\n",
    "    Legend: {text_gen.legend}\n",
    "\"\"\")"
   ]
  },
  {
   "cell_type": "code",
   "execution_count": null,
   "id": "e462728a",
   "metadata": {},
   "outputs": [],
   "source": [
    "# select slides\n",
    "# default all\n",
    "select_slides = [0, 1, 3, 5, 9]\n",
    "\n",
    "if select_slides:\n",
    "    selected_slides = [text_gen.slide[i] for i in select_slides]\n",
    "else:\n",
    "    selected_slides = text_gen.slide"
   ]
  },
  {
   "cell_type": "code",
   "execution_count": null,
   "id": "e44cc857",
   "metadata": {},
   "outputs": [],
   "source": [
    "image_generator_prompt = generate_ilustration(style=ilustration_style, language=language)"
   ]
  },
  {
   "cell_type": "code",
   "execution_count": null,
   "id": "3f29411b",
   "metadata": {},
   "outputs": [],
   "source": [
    "image_list = generate_images_from_list(prompt_list=selected_slides, base_prompt=image_generator_prompt)"
   ]
  },
  {
   "cell_type": "code",
   "execution_count": null,
   "id": "cd0e787f",
   "metadata": {},
   "outputs": [],
   "source": [
    "# re-try images\n",
    "x = [selected_slides[1]]\n",
    "image_list = generate_images_from_list(prompt_list=x, base_prompt=image_generator_prompt)"
   ]
  },
  {
   "cell_type": "code",
   "execution_count": null,
   "id": "3f003f11",
   "metadata": {},
   "outputs": [],
   "source": [
    "for i in image_list:\n",
    "  for generated_image in i.generated_images:\n",
    "    generated_image.image.show()"
   ]
  },
  {
   "cell_type": "code",
   "execution_count": null,
   "id": "36622693",
   "metadata": {},
   "outputs": [],
   "source": []
  }
 ],
 "metadata": {
  "kernelspec": {
   "display_name": ".venv",
   "language": "python",
   "name": "python3"
  },
  "language_info": {
   "codemirror_mode": {
    "name": "ipython",
    "version": 3
   },
   "file_extension": ".py",
   "mimetype": "text/x-python",
   "name": "python",
   "nbconvert_exporter": "python",
   "pygments_lexer": "ipython3",
   "version": "3.12.3"
  }
 },
 "nbformat": 4,
 "nbformat_minor": 5
}
