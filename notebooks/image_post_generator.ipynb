{
 "cells": [
  {
   "cell_type": "code",
   "execution_count": null,
   "id": "b58edfa9",
   "metadata": {},
   "outputs": [],
   "source": [
    "from utils.uselib import append_parent_dir_to_sys_path\n",
    "\n",
    "append_parent_dir_to_sys_path()"
   ]
  },
  {
   "cell_type": "code",
   "execution_count": null,
   "id": "7ec5c8f2",
   "metadata": {},
   "outputs": [],
   "source": [
    "from src.utils.utils import get_ilustration_styles\n",
    "from src.models.base import ILUSTRATIONS_STYLE, Language\n",
    "\n",
    "from src.prompts.text import system_isntruction\n",
    "from src.prompts.image import generate_ilustration\n",
    "\n",
    "from src.gemini.text import get_from_gemini_text\n",
    "from src.gemini.image import generate_images_from_list"
   ]
  },
  {
   "cell_type": "code",
   "execution_count": null,
   "id": "6f4900f2",
   "metadata": {},
   "outputs": [],
   "source": [
    "generate_message = \"easter eggs de Shrek 1\""
   ]
  },
  {
   "cell_type": "code",
   "execution_count": null,
   "id": "72458894",
   "metadata": {},
   "outputs": [],
   "source": [
    "# show all illustration styles\n",
    "get_ilustration_styles()"
   ]
  },
  {
   "cell_type": "code",
   "execution_count": null,
   "id": "c68a2e3c",
   "metadata": {},
   "outputs": [],
   "source": [
    "ilustration_style = ILUSTRATIONS_STYLE[10]"
   ]
  },
  {
   "cell_type": "code",
   "execution_count": null,
   "id": "d17eb81f",
   "metadata": {},
   "outputs": [],
   "source": [
    "language = Language.PORTUGUESE"
   ]
  },
  {
   "cell_type": "code",
   "execution_count": 15,
   "id": "ec498363",
   "metadata": {},
   "outputs": [
    {
     "name": "stdout",
     "output_type": "stream",
     "text": [
      "Slide 0: Descubra os Easter Eggs de Shrek 1!\n",
      "Slide 1: Espelho Mágico: Ele faz uma ponta em 'A Bela e a Fera' da Disney, mostrando a conexão com contos de fadas clássicos.\n",
      "Slide 2: Biscoito Ginger: Sua famosa frase 'Não meu botão de goma!' é uma paródia de 'Uma Odisseia no Espaço'.\n",
      "Slide 3: Fiona Canta: A cena onde Fiona canta com o pássaro é uma sátira de 'Branca de Neve e os Sete Anões'.\n",
      "Slide 4: Poderes de Fiona: Quando ela luta contra Robin Hood, é uma clara referência aos movimentos de 'Matrix'.\n",
      "Slide 5: Pinoquio Mente: O nariz de Pinóquio cresce ao mentir, um aceno à sua história original e dilemas morais.\n",
      "Slide 6: Homem Biscoito: Seu interrogatório parodia cenas clássicas de filmes de crime e suspense de Hollywood.\n",
      "Slide 7: O Gato de Botas: Embora não esteja em Shrek 1, sua ausência prepara o terreno para sua icônica entrada em Shrek 2.\n",
      "Slide 8: Fada Madrinha: A menção sutil a ela em Shrek 1 prenuncia seu papel central e cômico no segundo filme.\n",
      "Slide 9: Gostou? Compartilhe com quem também ama Shrek e os filmes de animação!\n",
      "\n",
      "    Title: Desvende os segredos de Shrek!\n",
      "    Legend: Descubra segredos hilários e referências escondidas em Shrek 1 que você provavelmente perdeu! Prepare-se para reassistir!\n",
      "\n"
     ]
    }
   ],
   "source": [
    "si = system_isntruction(language)\n",
    "text_gen = get_from_gemini_text(input_message=generate_message, sys_instructs=si)\n",
    "\n",
    "for i, j in enumerate(text_gen.slide):\n",
    "    print(f\"Slide {i}: {j}\")\n",
    "\n",
    "print(f\"\"\"\n",
    "    Title: {text_gen.title}\n",
    "    Legend: {text_gen.legend}\n",
    "\"\"\")"
   ]
  },
  {
   "cell_type": "code",
   "execution_count": null,
   "id": "e462728a",
   "metadata": {},
   "outputs": [],
   "source": [
    "# select slides\n",
    "# default all\n",
    "select_slides = [0, 1, 2, 4, 9]\n",
    "\n",
    "if select_slides:\n",
    "    selected_slides = [text_gen.slide[i] for i in select_slides]\n",
    "else:\n",
    "    selected_slides = text_gen.slide"
   ]
  },
  {
   "cell_type": "code",
   "execution_count": null,
   "id": "e44cc857",
   "metadata": {},
   "outputs": [],
   "source": [
    "image_generator_prompt = generate_ilustration(style=ilustration_style, language=language)"
   ]
  },
  {
   "cell_type": "code",
   "execution_count": null,
   "id": "3f29411b",
   "metadata": {},
   "outputs": [],
   "source": [
    "image_list = generate_images_from_list(prompt_list=selected_slides, base_prompt=image_generator_prompt)"
   ]
  },
  {
   "cell_type": "code",
   "execution_count": null,
   "id": "cd0e787f",
   "metadata": {},
   "outputs": [],
   "source": [
    "# re-try images\n",
    "# selected_slides[]\n",
    "# image_list = generate_images_from_list(prompt_list=selected_slides, base_prompt=image_generator_prompt)"
   ]
  },
  {
   "cell_type": "code",
   "execution_count": null,
   "id": "3f003f11",
   "metadata": {},
   "outputs": [],
   "source": [
    "for i in image_list:\n",
    "  for generated_image in i.generated_images:\n",
    "    generated_image.image.show()"
   ]
  }
 ],
 "metadata": {
  "kernelspec": {
   "display_name": ".venv",
   "language": "python",
   "name": "python3"
  },
  "language_info": {
   "codemirror_mode": {
    "name": "ipython",
    "version": 3
   },
   "file_extension": ".py",
   "mimetype": "text/x-python",
   "name": "python",
   "nbconvert_exporter": "python",
   "pygments_lexer": "ipython3",
   "version": "3.12.3"
  }
 },
 "nbformat": 4,
 "nbformat_minor": 5
}
