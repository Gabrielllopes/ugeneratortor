{
 "cells": [
  {
   "cell_type": "code",
   "execution_count": 1,
   "id": "b58edfa9",
   "metadata": {},
   "outputs": [],
   "source": [
    "from utils.uselib import append_parent_dir_to_sys_path\n",
    "\n",
    "append_parent_dir_to_sys_path()"
   ]
  },
  {
   "cell_type": "code",
   "execution_count": 2,
   "id": "7ec5c8f2",
   "metadata": {},
   "outputs": [],
   "source": [
    "from src.utils.utils import get_tone_styles, get_google_voices\n",
    "from src.utils.audio import wave_file\n",
    "from src.utils.image import open_image\n",
    "\n",
    "from src.models.base import Language, TONE_STYLE, VideoStyle\n",
    "\n",
    "from src.prompts.text import text_for_audio\n",
    "\n",
    "from src.gemini.video import generate_video\n",
    "from src.gemini.text import get_from_gemini_text\n",
    "from src.gemini.audio import text_to_speach"
   ]
  },
  {
   "cell_type": "code",
   "execution_count": 3,
   "id": "569aff0c",
   "metadata": {},
   "outputs": [
    {
     "name": "stdout",
     "output_type": "stream",
     "text": [
      "friendly - Warm, casual, and approachable. Sounds like a friend explaining something in a relaxed way.\n",
      "formal - Professional, respectful, and structured. Suitable for business or academic contexts.\n",
      "inspiring - Motivational and uplifting, designed to encourage and energize the listener.\n",
      "storytelling - Narrative and engaging, as if telling a story with emotions and vivid details.\n",
      "professional - Clear, concise, and authoritative. Ideal for work, training, or corporate environments.\n",
      "casual - Relaxed and everyday tone, similar to a natural chat or podcast conversation.\n",
      "educational - Instructive and clear, breaking down complex ideas into simple explanations.\n",
      "persuasive - Confident and convincing, aiming to influence or encourage action.\n",
      "calm - Soft, slow-paced, and reassuring, creating a sense of ease and trust.\n",
      "energetic - Lively, enthusiastic, and full of excitement to keep the listener engaged.\n"
     ]
    }
   ],
   "source": [
    "get_tone_styles()"
   ]
  },
  {
   "cell_type": "code",
   "execution_count": 10,
   "id": "6f4900f2",
   "metadata": {},
   "outputs": [],
   "source": [
    "generate_message = \"Você sabia, versão nosense de coisas mais obvias do mundo\""
   ]
  },
  {
   "cell_type": "code",
   "execution_count": 11,
   "id": "c68a2e3c",
   "metadata": {},
   "outputs": [],
   "source": [
    "tone_style = TONE_STYLE[\"persuasive\"]"
   ]
  },
  {
   "cell_type": "code",
   "execution_count": 12,
   "id": "d17eb81f",
   "metadata": {},
   "outputs": [],
   "source": [
    "language = Language.PORTUGUESE"
   ]
  },
  {
   "cell_type": "code",
   "execution_count": 13,
   "id": "ec498363",
   "metadata": {},
   "outputs": [],
   "source": [
    "si = text_for_audio(language, tone_style)\n",
    "videoModel = get_from_gemini_text(input_message=generate_message, sys_instructs=si, response_model=VideoStyle)"
   ]
  },
  {
   "cell_type": "code",
   "execution_count": 14,
   "id": "30bfdc5a",
   "metadata": {},
   "outputs": [
    {
     "name": "stdout",
     "output_type": "stream",
     "text": [
      "\n",
      "        Title: Você Sabia?\n",
      "        Legend: Fatos surpreendentes para o seu dia a dia!\n",
      "        Text: Você sabia que a água molha? Pois é... A água, esse líquido incolor e inodoro, tem a incrível propriedade de deixar as coisas molhadas. Chocante, não é? E o céu, você já notou que ele geralmente é azul durante o dia? Um verdadeiro mistério da natureza... ou não. E para fechar com chave de ouro, o fogo queima. Aquelas chamas brilhantes e quentes... sim, elas são quentes. Não tente tocar. Aposto que essa informação vai mudar a sua vida!\n",
      "    \n"
     ]
    }
   ],
   "source": [
    "print(\n",
    "    f\"\"\"\n",
    "        Title: {videoModel.title}\n",
    "        Legend: {videoModel.legend}\n",
    "        Text: {videoModel.text}\n",
    "    \"\"\"\n",
    ")"
   ]
  },
  {
   "cell_type": "code",
   "execution_count": null,
   "id": "d75d6e3b",
   "metadata": {},
   "outputs": [],
   "source": [
    "get_google_voices()"
   ]
  },
  {
   "cell_type": "code",
   "execution_count": null,
   "id": "e869af66",
   "metadata": {},
   "outputs": [],
   "source": [
    "text = videoModel.text"
   ]
  },
  {
   "cell_type": "code",
   "execution_count": null,
   "id": "e44cc857",
   "metadata": {},
   "outputs": [],
   "source": [
    "generated_audio = text_to_speach(input_message=text, voice_name=language)"
   ]
  },
  {
   "cell_type": "code",
   "execution_count": null,
   "id": "36622693",
   "metadata": {},
   "outputs": [],
   "source": [
    "wave_file(\"output.wav\", generated_audio)"
   ]
  },
  {
   "cell_type": "code",
   "execution_count": 15,
   "id": "7dfd3824",
   "metadata": {},
   "outputs": [],
   "source": [
    "video_prompt = \"\"\"\n",
    "Uma senhora idosa, magra, sem capacete, conduz uma motocicleta parecida com uma Honda Titan em uma rua de bairro simples. A moto se move normalmente, em velocidade baixa, quando de repente a idosa empina a moto, levantando a roda dianteira do chão com firmeza e expressão séria de concentração. Após alguns segundos no grau, ela abaixa a moto suavemente e continua a conduzir normalmente pela rua. As casas coloridas e desgastadas aparecem ao fundo, com iluminação natural de fim de tarde, capturando a cena de forma realista.\n",
    "\"\"\""
   ]
  },
  {
   "cell_type": "code",
   "execution_count": 16,
   "id": "965d442f",
   "metadata": {},
   "outputs": [
    {
     "name": "stdout",
     "output_type": "stream",
     "text": [
      "Waiting for video generation to complete...\n",
      "Waiting for video generation to complete...\n",
      "Waiting for video generation to complete...\n",
      "Waiting for video generation to complete...\n",
      "Waiting for video generation to complete...\n",
      "Waiting for video generation to complete...\n",
      "Waiting for video generation to complete...\n",
      "Waiting for video generation to complete...\n",
      "Waiting for video generation to complete...\n",
      "Waiting for video generation to complete...\n",
      "Waiting for video generation to complete...\n"
     ]
    },
    {
     "data": {
      "text/plain": [
       "GeneratedVideo(\n",
       "  video=Video(\n",
       "    uri='https://generativelanguage.googleapis.com/v1beta/files/6sduhtu9vnme:download?alt=media',\n",
       "    video_bytes=b'\\x00\\x00\\x00 ftypisom\\x00\\x00\\x02\\x00isomiso2avc1mp41\\x00\\x00\\x00\\x08free\\x00\\x00\\x18auuid\\xd8\\xfe\\xc3\\xd6\\x1b\\x0eH<\\x92\\x97X(\\x87~\\xc4\\x81\\x00\\x00\\x00\\x00manifest\\x00\\x00\\x00\\x00\\x00\\x00\\x00\\x00\\x00\\x00\\x00\\x184jumb\\x00\\x00\\x00\\x1e...'\n",
       "  )\n",
       ")"
      ]
     },
     "execution_count": 16,
     "metadata": {},
     "output_type": "execute_result"
    }
   ],
   "source": [
    "generate_video(\n",
    "    prompt=video_prompt,\n",
    "    model=\"veo-3.0-generate-preview\",\n",
    "    save_path='.',\n",
    "    file_name=\"teste02.mp4\", \n",
    "    #aspect_ratio=\"9:16\"\n",
    ")"
   ]
  },
  {
   "cell_type": "code",
   "execution_count": null,
   "id": "e3ec9bba",
   "metadata": {},
   "outputs": [],
   "source": []
  }
 ],
 "metadata": {
  "kernelspec": {
   "display_name": ".venv",
   "language": "python",
   "name": "python3"
  },
  "language_info": {
   "codemirror_mode": {
    "name": "ipython",
    "version": 3
   },
   "file_extension": ".py",
   "mimetype": "text/x-python",
   "name": "python",
   "nbconvert_exporter": "python",
   "pygments_lexer": "ipython3",
   "version": "3.12.3"
  }
 },
 "nbformat": 4,
 "nbformat_minor": 5
}
