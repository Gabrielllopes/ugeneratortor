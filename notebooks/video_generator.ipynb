{
 "cells": [
  {
   "cell_type": "code",
   "execution_count": 1,
   "id": "b58edfa9",
   "metadata": {},
   "outputs": [],
   "source": [
    "from utils.uselib import append_parent_dir_to_sys_path\n",
    "\n",
    "append_parent_dir_to_sys_path()"
   ]
  },
  {
   "cell_type": "code",
   "execution_count": 2,
   "id": "c2fab149",
   "metadata": {},
   "outputs": [],
   "source": [
    "import os"
   ]
  },
  {
   "cell_type": "code",
   "execution_count": 3,
   "id": "7ec5c8f2",
   "metadata": {},
   "outputs": [],
   "source": [
    "from src.utils.utils import get_tone_styles, get_google_voices\n",
    "from src.utils.audio import mp4_file, get_audio_duration\n",
    "\n",
    "from src.editor.makeVideo import merge_audio_video\n",
    "\n",
    "from src.models.base import Language, TONE_STYLE, VideoStyle\n",
    "\n",
    "from src.prompts.text import text_for_audio\n",
    "from src.prompts.video import generate_prompt_video\n",
    "\n",
    "from src.gemini.video import generate_video\n",
    "from src.gemini.text import get_from_gemini_text\n",
    "from src.gemini.audio import text_to_speach"
   ]
  },
  {
   "cell_type": "code",
   "execution_count": 4,
   "id": "927d2b7a",
   "metadata": {},
   "outputs": [],
   "source": [
    "VIDEO_DEFAULT_LOCATION = '/home/gabriel/ugeneretortor/.tmp/videos/raw_video'\n",
    "AUDIO_DEFAULT_LOCATION = '/home/gabriel/ugeneretortor/.tmp/videos/raw_audio'\n",
    "\n",
    "FINAL_VIDEO_LOCATION = '/home/gabriel/ugeneretortor/.tmp/videos/'"
   ]
  },
  {
   "cell_type": "code",
   "execution_count": 5,
   "id": "569aff0c",
   "metadata": {},
   "outputs": [
    {
     "name": "stdout",
     "output_type": "stream",
     "text": [
      "friendly - Warm, casual, and approachable. Sounds like a friend explaining something in a relaxed way.\n",
      "formal - Professional, respectful, and structured. Suitable for business or academic contexts.\n",
      "inspiring - Motivational and uplifting, designed to encourage and energize the listener.\n",
      "storytelling - Narrative and engaging, as if telling a story with emotions and vivid details.\n",
      "professional - Clear, concise, and authoritative. Ideal for work, training, or corporate environments.\n",
      "casual - Relaxed and everyday tone, similar to a natural chat or podcast conversation.\n",
      "educational - Instructive and clear, breaking down complex ideas into simple explanations.\n",
      "persuasive - Confident and convincing, aiming to influence or encourage action.\n",
      "calm - Soft, slow-paced, and reassuring, creating a sense of ease and trust.\n",
      "energetic - Lively, enthusiastic, and full of excitement to keep the listener engaged.\n"
     ]
    }
   ],
   "source": [
    "get_tone_styles()"
   ]
  },
  {
   "cell_type": "code",
   "execution_count": 6,
   "id": "6f4900f2",
   "metadata": {},
   "outputs": [],
   "source": [
    "generate_message = \"Quais os peixes mais estranhos do mundo, suas curiozidades fora do normal e fatos poucos conhecidos e curiozos sobre. maximo 3 peixes\""
   ]
  },
  {
   "cell_type": "code",
   "execution_count": 7,
   "id": "c68a2e3c",
   "metadata": {},
   "outputs": [],
   "source": [
    "tone_style = TONE_STYLE[\"inspiring\"]"
   ]
  },
  {
   "cell_type": "code",
   "execution_count": 8,
   "id": "d17eb81f",
   "metadata": {},
   "outputs": [],
   "source": [
    "language = Language.PORTUGUESE"
   ]
  },
  {
   "cell_type": "code",
   "execution_count": 9,
   "id": "ec498363",
   "metadata": {},
   "outputs": [],
   "source": [
    "si = text_for_audio(language, tone_style)\n",
    "videoModel = get_from_gemini_text(input_message=generate_message, sys_instructs=si, response_model=VideoStyle)"
   ]
  },
  {
   "cell_type": "code",
   "execution_count": 10,
   "id": "30bfdc5a",
   "metadata": {},
   "outputs": [
    {
     "name": "stdout",
     "output_type": "stream",
     "text": [
      "\n",
      "        Title: Peixes do fundo do mar!\n",
      "        Legend: A beleza está nos detalhes\n",
      "        Text: Você já parou para pensar nos mistérios do fundo do mar? É um mundo cheio de criaturas incríveis! Como o peixe-víbora… com dentes que não cabem na boca! Ou o tamboril, que atrai as presas com uma luz brilhante na cabeça. E o peixe-bolha… ele parece triste, mas é perfeito para sobreviver na pressão extrema do oceano. Esses animais nos lembram que a natureza é surpreendente! Continue explorando e se inspirando com a diversidade da vida marinha!\n",
      "    \n"
     ]
    }
   ],
   "source": [
    "print(\n",
    "    f\"\"\"\n",
    "        Title: {videoModel.title}\n",
    "        Legend: {videoModel.legend}\n",
    "        Text: {videoModel.text}\n",
    "    \"\"\"\n",
    ")"
   ]
  },
  {
   "cell_type": "code",
   "execution_count": 11,
   "id": "ddf23cc1",
   "metadata": {},
   "outputs": [],
   "source": [
    "file_name = videoModel.title.replace(\" \", \"_\") + \".mp4\"\n",
    "\n",
    "audio_location = os.path.join(AUDIO_DEFAULT_LOCATION, file_name)\n",
    "video_location = os.path.join(VIDEO_DEFAULT_LOCATION, file_name)\n",
    "video_final = os.path.join(FINAL_VIDEO_LOCATION, file_name)"
   ]
  },
  {
   "cell_type": "code",
   "execution_count": 12,
   "id": "d75d6e3b",
   "metadata": {},
   "outputs": [
    {
     "name": "stdout",
     "output_type": "stream",
     "text": [
      "Breezy - ['Aoede']\n",
      "Breathy - ['Enceladus']\n",
      "Bright - ['Autonoe', 'Zephyr']\n",
      "Casual - ['Zubenelgenubi']\n",
      "Clear - ['Erinome', 'Iapetus']\n",
      "Easy-going - ['Callirrhoe', 'Umbriel']\n",
      "Even - ['Schedar']\n",
      "Excitable - ['Fenrir']\n",
      "Firm - ['Alnilam', 'Kore', 'Orus']\n",
      "Forward - ['Pulcherrima']\n",
      "Friendly - ['Achird']\n",
      "Gentle - ['Vindemiatrix']\n",
      "Gravelly - ['Algenib']\n",
      "Informative - ['Charon', 'Rasalgethi']\n",
      "Knowledgeable - ['Sadaltager']\n",
      "Lively - ['Sadachbia']\n",
      "Mature - ['Gacrux']\n",
      "Smooth - ['Algieba', 'Despina']\n",
      "Soft - ['Achernar']\n",
      "Upbeat - ['Laomedeia', 'Puck']\n",
      "Warm - ['Sulafat']\n",
      "Youthful - ['Leda']\n"
     ]
    }
   ],
   "source": [
    "get_google_voices()"
   ]
  },
  {
   "cell_type": "code",
   "execution_count": 13,
   "id": "e44cc857",
   "metadata": {},
   "outputs": [],
   "source": [
    "text = videoModel.text\n",
    "\n",
    "generated_audio = text_to_speach(input_message=text, voice_name='Aoede')\n",
    "\n",
    "mp4_file(audio_location, generated_audio)"
   ]
  },
  {
   "cell_type": "code",
   "execution_count": 14,
   "id": "fe7a0737",
   "metadata": {},
   "outputs": [],
   "source": [
    "duration = get_audio_duration(audio_location)\n",
    "\n",
    "total_files = (duration - 5) // 4"
   ]
  },
  {
   "cell_type": "code",
   "execution_count": 15,
   "id": "7dfd3824",
   "metadata": {},
   "outputs": [],
   "source": [
    "video_prompt= generate_prompt_video(script=text)"
   ]
  },
  {
   "cell_type": "code",
   "execution_count": null,
   "id": "965d442f",
   "metadata": {},
   "outputs": [
    {
     "name": "stdout",
     "output_type": "stream",
     "text": [
      "Waiting for video generation to complete...\n"
     ]
    }
   ],
   "source": [
    "response = generate_video(\n",
    "    prompt=video_prompt,\n",
    "    model=\"veo-2.0-generate-001\",\n",
    "    save_path=VIDEO_DEFAULT_LOCATION,\n",
    "    file_name=file_name\n",
    "    aspect_ratio=\"9:16\"\n",
    ")"
   ]
  },
  {
   "cell_type": "code",
   "execution_count": null,
   "id": "e3ec9bba",
   "metadata": {},
   "outputs": [],
   "source": [
    "merge_audio_video(\n",
    "    video_files=[video_location],\n",
    "    audio_files=[audio_location],\n",
    "    output_file=video_final\n",
    ")"
   ]
  }
 ],
 "metadata": {
  "kernelspec": {
   "display_name": ".venv",
   "language": "python",
   "name": "python3"
  },
  "language_info": {
   "codemirror_mode": {
    "name": "ipython",
    "version": 3
   },
   "file_extension": ".py",
   "mimetype": "text/x-python",
   "name": "python",
   "nbconvert_exporter": "python",
   "pygments_lexer": "ipython3",
   "version": "3.12.3"
  }
 },
 "nbformat": 4,
 "nbformat_minor": 5
}
