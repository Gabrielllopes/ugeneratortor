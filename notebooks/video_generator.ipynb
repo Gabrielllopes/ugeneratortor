{
 "cells": [
  {
   "cell_type": "code",
   "execution_count": 1,
   "id": "b58edfa9",
   "metadata": {},
   "outputs": [],
   "source": [
    "from utils.uselib import append_parent_dir_to_sys_path\n",
    "\n",
    "append_parent_dir_to_sys_path()"
   ]
  },
  {
   "cell_type": "code",
   "execution_count": 2,
   "id": "7ec5c8f2",
   "metadata": {},
   "outputs": [],
   "source": [
    "from src.utils.utils import get_tone_styles, get_google_voices\n",
    "from src.utils.audio import wave_file, mp4_file\n",
    "from src.utils.image import open_image\n",
    "\n",
    "from src.models.base import Language, TONE_STYLE, VideoStyle\n",
    "\n",
    "from src.prompts.text import text_for_audio\n",
    "\n",
    "from src.gemini.video import generate_video\n",
    "from src.gemini.text import get_from_gemini_text\n",
    "from src.gemini.audio import text_to_speach"
   ]
  },
  {
   "cell_type": "code",
   "execution_count": 3,
   "id": "569aff0c",
   "metadata": {},
   "outputs": [
    {
     "name": "stdout",
     "output_type": "stream",
     "text": [
      "friendly - Warm, casual, and approachable. Sounds like a friend explaining something in a relaxed way.\n",
      "formal - Professional, respectful, and structured. Suitable for business or academic contexts.\n",
      "inspiring - Motivational and uplifting, designed to encourage and energize the listener.\n",
      "storytelling - Narrative and engaging, as if telling a story with emotions and vivid details.\n",
      "professional - Clear, concise, and authoritative. Ideal for work, training, or corporate environments.\n",
      "casual - Relaxed and everyday tone, similar to a natural chat or podcast conversation.\n",
      "educational - Instructive and clear, breaking down complex ideas into simple explanations.\n",
      "persuasive - Confident and convincing, aiming to influence or encourage action.\n",
      "calm - Soft, slow-paced, and reassuring, creating a sense of ease and trust.\n",
      "energetic - Lively, enthusiastic, and full of excitement to keep the listener engaged.\n"
     ]
    }
   ],
   "source": [
    "get_tone_styles()"
   ]
  },
  {
   "cell_type": "code",
   "execution_count": 10,
   "id": "6f4900f2",
   "metadata": {},
   "outputs": [],
   "source": [
    "generate_message = \"Você sabia, versão nosense tema 'tecnologia'\""
   ]
  },
  {
   "cell_type": "code",
   "execution_count": 6,
   "id": "c68a2e3c",
   "metadata": {},
   "outputs": [],
   "source": [
    "tone_style = TONE_STYLE[\"educational\"]"
   ]
  },
  {
   "cell_type": "code",
   "execution_count": 7,
   "id": "d17eb81f",
   "metadata": {},
   "outputs": [],
   "source": [
    "language = Language.PORTUGUESE"
   ]
  },
  {
   "cell_type": "code",
   "execution_count": 11,
   "id": "ec498363",
   "metadata": {},
   "outputs": [],
   "source": [
    "si = text_for_audio(language, tone_style)\n",
    "videoModel = get_from_gemini_text(input_message=generate_message, sys_instructs=si, response_model=VideoStyle)"
   ]
  },
  {
   "cell_type": "code",
   "execution_count": 12,
   "id": "30bfdc5a",
   "metadata": {},
   "outputs": [
    {
     "name": "stdout",
     "output_type": "stream",
     "text": [
      "\n",
      "        Title: Você sabia?\n",
      "        Legend: Essa invenção revolucionou a interação com os computadores!\n",
      "        Text: Você sabia que o primeiro mouse de computador, inventado por Douglas Engelbart em 1964, era feito de madeira e tinha apenas um botão? Ele foi chamado de 'X-Y Position Indicator for a Display System'.\n",
      "    \n"
     ]
    }
   ],
   "source": [
    "print(\n",
    "    f\"\"\"\n",
    "        Title: {videoModel.title}\n",
    "        Legend: {videoModel.legend}\n",
    "        Text: {videoModel.text}\n",
    "    \"\"\"\n",
    ")"
   ]
  },
  {
   "cell_type": "code",
   "execution_count": 10,
   "id": "d75d6e3b",
   "metadata": {},
   "outputs": [
    {
     "name": "stdout",
     "output_type": "stream",
     "text": [
      "Breezy - ['Aoede']\n",
      "Breathy - ['Enceladus']\n",
      "Bright - ['Autonoe', 'Zephyr']\n",
      "Casual - ['Zubenelgenubi']\n",
      "Clear - ['Erinome', 'Iapetus']\n",
      "Easy-going - ['Callirrhoe', 'Umbriel']\n",
      "Even - ['Schedar']\n",
      "Excitable - ['Fenrir']\n",
      "Firm - ['Alnilam', 'Kore', 'Orus']\n",
      "Forward - ['Pulcherrima']\n",
      "Friendly - ['Achird']\n",
      "Gentle - ['Vindemiatrix']\n",
      "Gravelly - ['Algenib']\n",
      "Informative - ['Charon', 'Rasalgethi']\n",
      "Knowledgeable - ['Sadaltager']\n",
      "Lively - ['Sadachbia']\n",
      "Mature - ['Gacrux']\n",
      "Smooth - ['Algieba', 'Despina']\n",
      "Soft - ['Achernar']\n",
      "Upbeat - ['Laomedeia', 'Puck']\n",
      "Warm - ['Sulafat']\n",
      "Youthful - ['Leda']\n"
     ]
    }
   ],
   "source": [
    "get_google_voices()"
   ]
  },
  {
   "cell_type": "code",
   "execution_count": 14,
   "id": "e869af66",
   "metadata": {},
   "outputs": [],
   "source": [
    "text = videoModel.text"
   ]
  },
  {
   "cell_type": "code",
   "execution_count": 15,
   "id": "e44cc857",
   "metadata": {},
   "outputs": [],
   "source": [
    "generated_audio = text_to_speach(input_message=text, voice_name='Gacrux')"
   ]
  },
  {
   "cell_type": "code",
   "execution_count": 16,
   "id": "36622693",
   "metadata": {},
   "outputs": [],
   "source": [
    "wave_file(\"output.wav\", generated_audio)\n",
    "mp4_file(\"output.mp4\", generated_audio)"
   ]
  },
  {
   "cell_type": "code",
   "execution_count": 17,
   "id": "7dfd3824",
   "metadata": {},
   "outputs": [],
   "source": [
    "video_prompt = \"Um mouse de madeira vintage dos anos 1960 repousa sobre uma mesa retrô iluminada por luz suave. A câmera gira lentamente ao redor do objeto, destacando sua textura rústica e o único botão. Em loop, o mouse é conectado a um computador antigo com tela fosforescente que exibe linhas gráficas simples se movendo suavemente. O ciclo se reinicia com o mouse voltando à posição inicial, criando um loop contínuo e hipnótico\""
   ]
  },
  {
   "cell_type": "code",
   "execution_count": 18,
   "id": "965d442f",
   "metadata": {},
   "outputs": [
    {
     "name": "stdout",
     "output_type": "stream",
     "text": [
      "Waiting for video generation to complete...\n",
      "Waiting for video generation to complete...\n",
      "Waiting for video generation to complete...\n",
      "Waiting for video generation to complete...\n",
      "Waiting for video generation to complete...\n",
      "Waiting for video generation to complete...\n",
      "Waiting for video generation to complete...\n",
      "Waiting for video generation to complete...\n",
      "Waiting for video generation to complete...\n",
      "Waiting for video generation to complete...\n",
      "Waiting for video generation to complete...\n"
     ]
    },
    {
     "data": {
      "text/plain": [
       "GeneratedVideo(\n",
       "  video=Video(\n",
       "    uri='https://generativelanguage.googleapis.com/v1beta/files/gpg29hfub96x:download?alt=media',\n",
       "    video_bytes=b'\\x00\\x00\\x00 ftypisom\\x00\\x00\\x02\\x00isomiso2avc1mp41\\x00\\x00\\x00\\x08free\\x00\\x00\\x18auuid\\xd8\\xfe\\xc3\\xd6\\x1b\\x0eH<\\x92\\x97X(\\x87~\\xc4\\x81\\x00\\x00\\x00\\x00manifest\\x00\\x00\\x00\\x00\\x00\\x00\\x00\\x00\\x00\\x00\\x00\\x184jumb\\x00\\x00\\x00\\x1e...'\n",
       "  )\n",
       ")"
      ]
     },
     "execution_count": 18,
     "metadata": {},
     "output_type": "execute_result"
    }
   ],
   "source": [
    "generate_video(\n",
    "    prompt=video_prompt,\n",
    "    model=\"veo-3.0-generate-preview\",\n",
    "    save_path='.',\n",
    "    file_name=\"testeMouse.mp4\", \n",
    "    #aspect_ratio=\"9:16\"\n",
    ")"
   ]
  },
  {
   "cell_type": "code",
   "execution_count": null,
   "id": "e3ec9bba",
   "metadata": {},
   "outputs": [],
   "source": []
  }
 ],
 "metadata": {
  "kernelspec": {
   "display_name": ".venv",
   "language": "python",
   "name": "python3"
  },
  "language_info": {
   "codemirror_mode": {
    "name": "ipython",
    "version": 3
   },
   "file_extension": ".py",
   "mimetype": "text/x-python",
   "name": "python",
   "nbconvert_exporter": "python",
   "pygments_lexer": "ipython3",
   "version": "3.12.3"
  }
 },
 "nbformat": 4,
 "nbformat_minor": 5
}
