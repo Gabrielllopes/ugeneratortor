{
 "cells": [
  {
   "cell_type": "code",
   "execution_count": null,
   "id": "b58edfa9",
   "metadata": {},
   "outputs": [],
   "source": [
    "from utils.uselib import append_parent_dir_to_sys_path\n",
    "\n",
    "append_parent_dir_to_sys_path()"
   ]
  },
  {
   "cell_type": "code",
   "execution_count": null,
   "id": "c2fab149",
   "metadata": {},
   "outputs": [],
   "source": [
    "import os"
   ]
  },
  {
   "cell_type": "code",
   "execution_count": null,
   "id": "7ec5c8f2",
   "metadata": {},
   "outputs": [],
   "source": [
    "from src.utils.utils import get_tone_styles, get_google_voices\n",
    "from src.utils.audio import mp4_file\n",
    "\n",
    "from src.editor.makeVideo import merge_audio_video\n",
    "\n",
    "from src.models.base import Language, TONE_STYLE, VideoStyle\n",
    "\n",
    "from src.prompts.text import text_for_audio\n",
    "\n",
    "from src.gemini.video import generate_video\n",
    "from src.gemini.text import get_from_gemini_text\n",
    "from src.gemini.audio import text_to_speach"
   ]
  },
  {
   "cell_type": "code",
   "execution_count": null,
   "id": "927d2b7a",
   "metadata": {},
   "outputs": [],
   "source": [
    "VIDEO_DEFAULT_LOCATION = '/home/gabriel/ugeneretortor/.tmp/videos/raw_video'\n",
    "AUDIO_DEFAULT_LOCATION = '/home/gabriel/ugeneretortor/.tmp/audio/raw_audio'\n",
    "\n",
    "FINAL_VIDEO_LOCATION = '/home/gabriel/ugeneretortor/.tmp/videos/'"
   ]
  },
  {
   "cell_type": "code",
   "execution_count": null,
   "id": "569aff0c",
   "metadata": {},
   "outputs": [],
   "source": [
    "get_tone_styles()"
   ]
  },
  {
   "cell_type": "code",
   "execution_count": null,
   "id": "6f4900f2",
   "metadata": {},
   "outputs": [],
   "source": [
    "generate_message = \"Quais os peixes mais estranhos do mundo, suas curiozidades fora do normal e fatos poucos conhecidos e curiozos sobre. maximo 3 peixes\""
   ]
  },
  {
   "cell_type": "code",
   "execution_count": null,
   "id": "c68a2e3c",
   "metadata": {},
   "outputs": [],
   "source": [
    "tone_style = TONE_STYLE[\"educational\"]"
   ]
  },
  {
   "cell_type": "code",
   "execution_count": null,
   "id": "d17eb81f",
   "metadata": {},
   "outputs": [],
   "source": [
    "language = Language.PORTUGUESE"
   ]
  },
  {
   "cell_type": "code",
   "execution_count": null,
   "id": "ec498363",
   "metadata": {},
   "outputs": [],
   "source": [
    "si = text_for_audio(language, tone_style)\n",
    "videoModel = get_from_gemini_text(input_message=generate_message, sys_instructs=si, response_model=VideoStyle)"
   ]
  },
  {
   "cell_type": "code",
   "execution_count": null,
   "id": "30bfdc5a",
   "metadata": {},
   "outputs": [],
   "source": [
    "print(\n",
    "    f\"\"\"\n",
    "        Title: {videoModel.title}\n",
    "        Legend: {videoModel.legend}\n",
    "        Text: {videoModel.text}\n",
    "    \"\"\"\n",
    ")"
   ]
  },
  {
   "cell_type": "code",
   "execution_count": null,
   "id": "ddf23cc1",
   "metadata": {},
   "outputs": [],
   "source": [
    "file_name = videoModel.title.replace(\" \", \"_\") + \".mp4\"\n",
    "\n",
    "audio_location = os.path.join(AUDIO_DEFAULT_LOCATION, file_name)\n",
    "video_location = os.path.join(VIDEO_DEFAULT_LOCATION, file_name)\n",
    "video_final = os.path.join(FINAL_VIDEO_LOCATION, file_name)"
   ]
  },
  {
   "cell_type": "code",
   "execution_count": null,
   "id": "d75d6e3b",
   "metadata": {},
   "outputs": [],
   "source": [
    "get_google_voices()"
   ]
  },
  {
   "cell_type": "code",
   "execution_count": null,
   "id": "e44cc857",
   "metadata": {},
   "outputs": [],
   "source": [
    "text = videoModel.text\n",
    "\n",
    "generated_audio = text_to_speach(input_message=text, voice_name='Gacrux')\n",
    "\n",
    "mp4_file(audio_location, generated_audio)"
   ]
  },
  {
   "cell_type": "code",
   "execution_count": null,
   "id": "7dfd3824",
   "metadata": {},
   "outputs": [],
   "source": [
    "video_prompt = \"Um mouse de madeira vintage dos anos 1960 repousa sobre uma mesa retrô iluminada por luz suave. A câmera gira lentamente ao redor do objeto, destacando sua textura rústica e o único botão. Em loop, o mouse é conectado a um computador antigo com tela fosforescente que exibe linhas gráficas simples se movendo suavemente. O ciclo se reinicia com o mouse voltando à posição inicial, criando um loop contínuo e hipnótico\""
   ]
  },
  {
   "cell_type": "code",
   "execution_count": null,
   "id": "965d442f",
   "metadata": {},
   "outputs": [],
   "source": [
    "generate_video(\n",
    "    prompt=video_prompt,\n",
    "    model=\"veo-3.0-generate-preview\",\n",
    "    save_path=VIDEO_DEFAULT_LOCATION,\n",
    "    file_name=file_name,\n",
    "    #aspect_ratio=\"9:16\"\n",
    ")"
   ]
  },
  {
   "cell_type": "code",
   "execution_count": null,
   "id": "e3ec9bba",
   "metadata": {},
   "outputs": [],
   "source": [
    "merge_audio_video(\n",
    "    video_files=[video_location],\n",
    "    audio_files=[audio_location],\n",
    "    output_file=video_final\n",
    ")"
   ]
  }
 ],
 "metadata": {
  "kernelspec": {
   "display_name": ".venv",
   "language": "python",
   "name": "python3"
  },
  "language_info": {
   "codemirror_mode": {
    "name": "ipython",
    "version": 3
   },
   "file_extension": ".py",
   "mimetype": "text/x-python",
   "name": "python",
   "nbconvert_exporter": "python",
   "pygments_lexer": "ipython3",
   "version": "3.12.3"
  }
 },
 "nbformat": 4,
 "nbformat_minor": 5
}
