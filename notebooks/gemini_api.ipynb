{
  "cells": [
    {
      "cell_type": "code",
      "execution_count": null,
      "metadata": {
        "id": "m9XtXjsdbXKT"
      },
      "outputs": [],
      "source": [
        "from google import genai\n",
        "from google.genai import types\n",
        "from PIL import Image\n",
        "from io import BytesIO\n",
        "\n",
        "from pydantic import BaseModel\n",
        "from enum import StrEnum"
      ]
    },
    {
      "cell_type": "code",
      "execution_count": null,
      "metadata": {
        "id": "jBeKXt9CmcbA"
      },
      "outputs": [],
      "source": [
        "client = genai.Client(api_key=\"xxxxxxxxxxxx\")"
      ]
    },
    {
      "cell_type": "code",
      "execution_count": null,
      "metadata": {
        "id": "vUw6xoG5pR4K"
      },
      "outputs": [],
      "source": [
        "DEFAULT_MODEL_TEXT = \"gemini-2.5-flash\"\n",
        "DEFAULT_MODEL_IMAGE = \"imagen-4.0-generate-preview-06-06\""
      ]
    },
    {
      "cell_type": "code",
      "execution_count": null,
      "metadata": {
        "id": "Hem8ANb_1zjf"
      },
      "outputs": [],
      "source": [
        "DEFAULT_ASPECT_RATIO = \"1:1\""
      ]
    },
    {
      "cell_type": "code",
      "execution_count": null,
      "metadata": {
        "id": "RC7e0Fn85Ej-"
      },
      "outputs": [],
      "source": [
        "DEFAULT_THINKING = 0 # SET TO FALSE\n",
        "# https://ai.google.dev/gemini-api/docs/thinking"
      ]
    },
    {
      "cell_type": "code",
      "execution_count": null,
      "metadata": {
        "id": "nplwGsEA26cZ"
      },
      "outputs": [],
      "source": [
        "ILUSTRATIONS_STYLE = {\n",
        "    \"Handcrafted Knitted\": \"Simulates textures of knitting, crochet, or handcrafted felt.\",\n",
        "    \"Fantasy Star\": \"Epic aesthetic of classic RPGs and fantasy book covers.\",\n",
        "    \"LEGO\": \"Colorful plastic blocks with a modular appearance.\",\n",
        "    \"Pixel Art\": \"Visual style of 8-bit and 16-bit games, with retro charm.\",\n",
        "    \"DreamWorks\": \"Caricatured 3D style typical of movies like Shrek and Kung Fu Panda.\",\n",
        "    \"Muppet\": \"Puppet-like visuals, with textures resembling plush and fabric.\",\n",
        "    \"Attack on Titan\": \"Inspired by the anime Shingeki no Kyojin, with bold and dark lines.\",\n",
        "    \"Fleischer Studios\": \"1930s style, like Betty Boop and Popeye.\",\n",
        "    \"Minecraft\": \"Cubic block aesthetic typical of the Minecraft universe.\",\n",
        "    \"Simpsons\": \"Visual style of the animated series, with yellow skin and exaggerated features.\",\n",
        "    \"Vintage Comic\": \"Aesthetic of old comic books, like Marvel’s 1960s issues.\",\n",
        "    \"Cartoon Network\": \"Visual style inspired by 2000s animations like Samurai Jack and others.\"\n",
        "}"
      ]
    },
    {
      "cell_type": "code",
      "execution_count": null,
      "metadata": {
        "id": "l1eyuICx5n6e"
      },
      "outputs": [],
      "source": [
        "class Language(StrEnum):\n",
        "    ENGLISH = \"English\"\n",
        "    SPANISH = \"Spanish\"\n",
        "    PORTUGUESE = \"Portuguese\"\n",
        "    FRENCH = \"French\""
      ]
    },
    {
      "cell_type": "code",
      "execution_count": null,
      "metadata": {
        "id": "YnFxMQct-Zo2"
      },
      "outputs": [],
      "source": [
        "class Carrossel(BaseModel):\n",
        "    title: str\n",
        "    slide: list[str]\n",
        "    legend: str"
      ]
    },
    {
      "cell_type": "code",
      "execution_count": null,
      "metadata": {
        "id": "D_TElAU0oOLK"
      },
      "outputs": [],
      "source": [
        "input_message = \"Mitos sobre o filme O Poderoso Chefão e fatos curiosos\""
      ]
    },
    {
      "cell_type": "code",
      "execution_count": null,
      "metadata": {
        "id": "P1eezec-9JOk"
      },
      "outputs": [],
      "source": [
        "DEFAULT_STYLE = \"Vintage Comic: Aesthetic of old comic books, like Marvel’s 1960s issues.\""
      ]
    },
    {
      "cell_type": "code",
      "execution_count": null,
      "metadata": {
        "id": "u3HqDdY_qQoE"
      },
      "outputs": [],
      "source": [
        "DEFAULT_N_SLIDES = 5"
      ]
    },
    {
      "cell_type": "code",
      "execution_count": null,
      "metadata": {
        "id": "4GYSzbO75yh5"
      },
      "outputs": [],
      "source": [
        "language = (Language.PORTUGUESE)"
      ]
    },
    {
      "cell_type": "code",
      "execution_count": null,
      "metadata": {
        "id": "--Wo6lbTpIWN"
      },
      "outputs": [],
      "source": [
        "def get_from_gemini_text(input_message: str, sys_instructs:str, response_model=Carrossel, model=DEFAULT_MODEL_TEXT):\n",
        "  response = client.models.generate_content(\n",
        "    model=model,\n",
        "    contents=input_message,\n",
        "    config=types.GenerateContentConfig(\n",
        "        thinking_config=types.ThinkingConfig(thinking_budget=DEFAULT_THINKING),\n",
        "        system_instruction=sys_instructs,\n",
        "        response_mime_type=\"application/json\",\n",
        "        response_schema=response_model\n",
        "    )\n",
        "  )\n",
        "\n",
        "  converted: response_model = response.parsed\n",
        "  return converted"
      ]
    },
    {
      "cell_type": "code",
      "execution_count": null,
      "metadata": {
        "id": "pH9O7UNXqjq-"
      },
      "outputs": [],
      "source": [
        "def get_from_gemini_image(input_messge: str, model=DEFAULT_MODEL_IMAGE, n_image=DEFAULT_N_SLIDES, aspect_ratio=DEFAULT_ASPECT_RATIO):\n",
        "  response = client.models.generate_images(\n",
        "    model=model,\n",
        "    prompt=input_messge,\n",
        "    config=types.GenerateImagesConfig(\n",
        "        number_of_images=n_image,\n",
        "        aspectRatio=DEFAULT_ASPECT_RATIO\n",
        "    )\n",
        "  )\n",
        "  return response"
      ]
    },
    {
      "cell_type": "code",
      "execution_count": null,
      "metadata": {
        "id": "6Ut4KZmslZqn"
      },
      "outputs": [],
      "source": [
        "system_instruction = f\"\"\"\n",
        "  Use the provided message to create copy for a carousel post in {language}.\n",
        "\n",
        "  Divide the content into {DEFAULT_N_SLIDES} slides:\n",
        "  1. **Slide 1 (hook)**: headline or main call-to-action, 4 to 8 words, short and attention-grabbing.\n",
        "  2. **Following slides**: each with 15 to 25 words, containing one key idea per slide.\n",
        "    - Keep text concise.\n",
        "    - Provide details and value.\n",
        "  3. **Last Slide**: Share this post with someone who needs to see it!\n",
        "\n",
        "  **Caption**: write a complementary text of 100 to 150 characters in {language}.\n",
        "\"\"\""
      ]
    },
    {
      "cell_type": "code",
      "execution_count": null,
      "metadata": {
        "colab": {
          "base_uri": "https://localhost:8080/"
        },
        "id": "l2KPyP4j12Nr",
        "outputId": "3119ca34-24e4-4d02-9cf9-3c6e8ca1a680"
      },
      "outputs": [],
      "source": [
        "response = get_from_gemini_text(input_messge=input_message, sys_instructs=system_instruction)\n",
        "print(response)"
      ]
    },
    {
      "cell_type": "code",
      "execution_count": null,
      "metadata": {
        "id": "DHEj4ywk7HEI"
      },
      "outputs": [],
      "source": [
        "def generate_images_from_class(carrossel: Carrossel, language: Language, style: str):\n",
        "  prompt_imagem = f\"\"\"\n",
        "    Create an illustration in the style of {style}.\n",
        "    The text must be written in {language} and seamlessly integrated into the body of the image, ensuring it is clear and visually appealing.\n",
        "    Include the following text exactly as provided:\n",
        "  \"\"\"\n",
        "\n",
        "  slide_images = []\n",
        "  for prompt in carrossel.slide:\n",
        "    prmpt = prompt_imagem + prompt\n",
        "    slide_images.append(get_from_gemini_image(input_messge=prmpt, n_image=1))\n",
        "\n",
        "  return slide_images"
      ]
    },
    {
      "cell_type": "code",
      "execution_count": null,
      "metadata": {
        "id": "fIvXdL3X8z64"
      },
      "outputs": [],
      "source": [
        "slide_images = generate_images_from_class(carrossel=response, language=language, style=DEFAULT_STYLE)"
      ]
    },
    {
      "cell_type": "code",
      "execution_count": null,
      "metadata": {
        "colab": {
          "base_uri": "https://localhost:8080/",
          "height": 1000
        },
        "collapsed": true,
        "id": "hs8Rdp609a9P",
        "outputId": "e43d7283-623c-4f70-d460-32e1d88aad3b"
      },
      "outputs": [],
      "source": [
        "for i in slide_images:\n",
        "  for generated_image in i.generated_images:\n",
        "    generated_image.image.show()"
      ]
    }
  ],
  "metadata": {
    "colab": {
      "provenance": []
    },
    "kernelspec": {
      "display_name": "Python 3",
      "name": "python3"
    },
    "language_info": {
      "name": "python",
      "version": "3.12.3"
    }
  },
  "nbformat": 4,
  "nbformat_minor": 0
}
